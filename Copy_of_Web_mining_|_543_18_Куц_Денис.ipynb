{
  "nbformat": 4,
  "nbformat_minor": 0,
  "metadata": {
    "colab": {
      "name": "Copy of Web mining | 543.18 Куц Денис.ipynb",
      "version": "0.3.2",
      "provenance": [],
      "collapsed_sections": [
        "R0hGW6s1ypV6"
      ],
      "toc_visible": true,
      "include_colab_link": true
    },
    "kernelspec": {
      "name": "python3",
      "display_name": "Python 3"
    },
    "accelerator": "GPU"
  },
  "cells": [
    {
      "cell_type": "markdown",
      "metadata": {
        "id": "view-in-github",
        "colab_type": "text"
      },
      "source": [
        "<a href=\"https://colab.research.google.com/github/DenisKuts1/dataset/blob/master/Copy_of_Web_mining_%7C_543_18_%D0%9A%D1%83%D1%86_%D0%94%D0%B5%D0%BD%D0%B8%D1%81.ipynb\" target=\"_parent\"><img src=\"https://colab.research.google.com/assets/colab-badge.svg\" alt=\"Open In Colab\"/></a>"
      ]
    },
    {
      "cell_type": "markdown",
      "metadata": {
        "id": "R0hGW6s1ypV6",
        "colab_type": "text"
      },
      "source": [
        "# Lab 1"
      ]
    },
    {
      "cell_type": "code",
      "metadata": {
        "id": "I3KutPVM8fEM",
        "colab_type": "code",
        "outputId": "8bf0431c-072b-4523-d836-120a37579110",
        "colab": {
          "base_uri": "https://localhost:8080/"
        }
      },
      "source": [
        "import pandas as pd\n",
        "\n",
        "url = \"https://raw.githubusercontent.com/DenisKuts1/dataset/master/ign.csv\"\n",
        "dataFrame = pd.read_csv(url, error_bad_lines=False)  \n",
        "dataFrame.head()"
      ],
      "execution_count": 0,
      "outputs": [
        {
          "output_type": "execute_result",
          "data": {
            "text/html": [
              "<div>\n",
              "<style scoped>\n",
              "    .dataframe tbody tr th:only-of-type {\n",
              "        vertical-align: middle;\n",
              "    }\n",
              "\n",
              "    .dataframe tbody tr th {\n",
              "        vertical-align: top;\n",
              "    }\n",
              "\n",
              "    .dataframe thead th {\n",
              "        text-align: right;\n",
              "    }\n",
              "</style>\n",
              "<table border=\"1\" class=\"dataframe\">\n",
              "  <thead>\n",
              "    <tr style=\"text-align: right;\">\n",
              "      <th></th>\n",
              "      <th>Unnamed: 0</th>\n",
              "      <th>score_phrase</th>\n",
              "      <th>title</th>\n",
              "      <th>url</th>\n",
              "      <th>platform</th>\n",
              "      <th>score</th>\n",
              "      <th>genre</th>\n",
              "      <th>editors_choice</th>\n",
              "      <th>release_year</th>\n",
              "      <th>release_month</th>\n",
              "      <th>release_day</th>\n",
              "    </tr>\n",
              "  </thead>\n",
              "  <tbody>\n",
              "    <tr>\n",
              "      <th>0</th>\n",
              "      <td>0</td>\n",
              "      <td>Amazing</td>\n",
              "      <td>LittleBigPlanet PS Vita</td>\n",
              "      <td>/games/littlebigplanet-vita/vita-98907</td>\n",
              "      <td>PlayStation Vita</td>\n",
              "      <td>9.0</td>\n",
              "      <td>Platformer</td>\n",
              "      <td>Y</td>\n",
              "      <td>2012</td>\n",
              "      <td>9</td>\n",
              "      <td>12</td>\n",
              "    </tr>\n",
              "    <tr>\n",
              "      <th>1</th>\n",
              "      <td>1</td>\n",
              "      <td>Amazing</td>\n",
              "      <td>LittleBigPlanet PS Vita -- Marvel Super Hero E...</td>\n",
              "      <td>/games/littlebigplanet-ps-vita-marvel-super-he...</td>\n",
              "      <td>PlayStation Vita</td>\n",
              "      <td>9.0</td>\n",
              "      <td>Platformer</td>\n",
              "      <td>Y</td>\n",
              "      <td>2012</td>\n",
              "      <td>9</td>\n",
              "      <td>12</td>\n",
              "    </tr>\n",
              "    <tr>\n",
              "      <th>2</th>\n",
              "      <td>2</td>\n",
              "      <td>Great</td>\n",
              "      <td>Splice: Tree of Life</td>\n",
              "      <td>/games/splice/ipad-141070</td>\n",
              "      <td>iPad</td>\n",
              "      <td>8.5</td>\n",
              "      <td>Puzzle</td>\n",
              "      <td>N</td>\n",
              "      <td>2012</td>\n",
              "      <td>9</td>\n",
              "      <td>12</td>\n",
              "    </tr>\n",
              "    <tr>\n",
              "      <th>3</th>\n",
              "      <td>3</td>\n",
              "      <td>Great</td>\n",
              "      <td>NHL 13</td>\n",
              "      <td>/games/nhl-13/xbox-360-128182</td>\n",
              "      <td>Xbox 360</td>\n",
              "      <td>8.5</td>\n",
              "      <td>Sports</td>\n",
              "      <td>N</td>\n",
              "      <td>2012</td>\n",
              "      <td>9</td>\n",
              "      <td>11</td>\n",
              "    </tr>\n",
              "    <tr>\n",
              "      <th>4</th>\n",
              "      <td>4</td>\n",
              "      <td>Great</td>\n",
              "      <td>NHL 13</td>\n",
              "      <td>/games/nhl-13/ps3-128181</td>\n",
              "      <td>PlayStation 3</td>\n",
              "      <td>8.5</td>\n",
              "      <td>Sports</td>\n",
              "      <td>N</td>\n",
              "      <td>2012</td>\n",
              "      <td>9</td>\n",
              "      <td>11</td>\n",
              "    </tr>\n",
              "  </tbody>\n",
              "</table>\n",
              "</div>"
            ],
            "text/plain": [
              "   Unnamed: 0 score_phrase                                              title  \\\n",
              "0           0      Amazing                            LittleBigPlanet PS Vita   \n",
              "1           1      Amazing  LittleBigPlanet PS Vita -- Marvel Super Hero E...   \n",
              "2           2        Great                               Splice: Tree of Life   \n",
              "3           3        Great                                             NHL 13   \n",
              "4           4        Great                                             NHL 13   \n",
              "\n",
              "                                                 url          platform  score  \\\n",
              "0             /games/littlebigplanet-vita/vita-98907  PlayStation Vita    9.0   \n",
              "1  /games/littlebigplanet-ps-vita-marvel-super-he...  PlayStation Vita    9.0   \n",
              "2                          /games/splice/ipad-141070              iPad    8.5   \n",
              "3                      /games/nhl-13/xbox-360-128182          Xbox 360    8.5   \n",
              "4                           /games/nhl-13/ps3-128181     PlayStation 3    8.5   \n",
              "\n",
              "        genre editors_choice  release_year  release_month  release_day  \n",
              "0  Platformer              Y          2012              9           12  \n",
              "1  Platformer              Y          2012              9           12  \n",
              "2      Puzzle              N          2012              9           12  \n",
              "3      Sports              N          2012              9           11  \n",
              "4      Sports              N          2012              9           11  "
            ]
          },
          "metadata": {
            "tags": []
          },
          "execution_count": 2
        }
      ]
    },
    {
      "cell_type": "code",
      "metadata": {
        "id": "KZRAGOErwGxP",
        "colab_type": "code",
        "outputId": "624e9ba8-3d8b-465b-97c9-972a1ad252ca",
        "colab": {
          "base_uri": "https://localhost:8080/"
        }
      },
      "source": [
        "dataFrame[\"score\"].describe()"
      ],
      "execution_count": 0,
      "outputs": [
        {
          "output_type": "execute_result",
          "data": {
            "text/plain": [
              "count    18625.000000\n",
              "mean         6.950459\n",
              "std          1.711736\n",
              "min          0.500000\n",
              "25%          6.000000\n",
              "50%          7.300000\n",
              "75%          8.200000\n",
              "max         10.000000\n",
              "Name: score, dtype: float64"
            ]
          },
          "metadata": {
            "tags": []
          },
          "execution_count": 3
        }
      ]
    },
    {
      "cell_type": "code",
      "metadata": {
        "id": "W8mwHeE9wWgv",
        "colab_type": "code",
        "outputId": "5b2012e6-6fbe-4a9d-d13a-c5899be1005c",
        "colab": {
          "base_uri": "https://localhost:8080/"
        }
      },
      "source": [
        "dataFrame[\"score\"].mode()"
      ],
      "execution_count": 0,
      "outputs": [
        {
          "output_type": "execute_result",
          "data": {
            "text/plain": [
              "0    8.0\n",
              "dtype: float64"
            ]
          },
          "metadata": {
            "tags": []
          },
          "execution_count": 4
        }
      ]
    },
    {
      "cell_type": "code",
      "metadata": {
        "id": "ssNxHLjowsP5",
        "colab_type": "code",
        "outputId": "939749cf-9b02-4fd8-80e9-fc870f1dc34f",
        "colab": {
          "base_uri": "https://localhost:8080/"
        }
      },
      "source": [
        "dataFrame[\"score\"].median()"
      ],
      "execution_count": 0,
      "outputs": [
        {
          "output_type": "execute_result",
          "data": {
            "text/plain": [
              "7.3"
            ]
          },
          "metadata": {
            "tags": []
          },
          "execution_count": 5
        }
      ]
    },
    {
      "cell_type": "code",
      "metadata": {
        "id": "aigGhDzFwsXK",
        "colab_type": "code",
        "outputId": "07f99159-0ace-4f57-9bb7-cba99844c7c3",
        "colab": {
          "base_uri": "https://localhost:8080/"
        }
      },
      "source": [
        "dataFrame[\"score\"].mean()"
      ],
      "execution_count": 0,
      "outputs": [
        {
          "output_type": "execute_result",
          "data": {
            "text/plain": [
              "6.950459060402666"
            ]
          },
          "metadata": {
            "tags": []
          },
          "execution_count": 6
        }
      ]
    },
    {
      "cell_type": "markdown",
      "metadata": {
        "id": "jQouhkyOy5ws",
        "colab_type": "text"
      },
      "source": [
        "# Lab2"
      ]
    },
    {
      "cell_type": "markdown",
      "metadata": {
        "id": "f_AQjXkQzcTA",
        "colab_type": "text"
      },
      "source": [
        "*Варіант для парсингу* - рейтинг відеоігор [Metacritic](https://www.metacritic.com/).\n",
        "\n",
        "*Запитання до ігор*: \n",
        "- Найкращі 10 ігор за жанром.\n",
        "- Розробник з найбільшою кількістю ігор.\n",
        "- Найбільш та найменш оцінені експертами ігри заданим видавником.\n",
        "- Найбільш та найменш оцінені користувачами ігри заданим видавником.\n",
        "- Ігри заданого розробника з найбільшою різницею між рейтингами користувачів і експертів.\n",
        "- Найкращі розробники ігор за заданим жанром."
      ]
    },
    {
      "cell_type": "code",
      "metadata": {
        "id": "OdQ6SxTe-BiD",
        "colab_type": "code",
        "colab": {}
      },
      "source": [
        "try:\n",
        "    import scrapy\n",
        "except:\n",
        "    !pip install scrapy\n",
        "    import scrapy\n",
        "from scrapy.crawler import CrawlerProcess\n",
        "import json\n",
        "import logging\n"
      ],
      "execution_count": 0,
      "outputs": []
    },
    {
      "cell_type": "code",
      "metadata": {
        "id": "RKX6TtGWNwFx",
        "colab_type": "code",
        "colab": {}
      },
      "source": [
        "from enum import Enum\n",
        "\n",
        "# enum that helps piplines to differentiate between game and publisher items \n",
        "class ItemType(Enum):\n",
        "    GAME = 1\n",
        "    PUBLISHER = 2"
      ],
      "execution_count": 0,
      "outputs": []
    },
    {
      "cell_type": "code",
      "metadata": {
        "id": "MO67zG6i-PAb",
        "colab_type": "code",
        "colab": {}
      },
      "source": [
        "# pipeline that handles game item and saves it to games.jl file\n",
        "class GamesWriterPipeline(object):\n",
        "    \n",
        "    game_id = 0\n",
        "  \n",
        "    def open_spider(self, spider):\n",
        "        self.file = open('games.jl', 'w')\n",
        "\n",
        "    def close_spider(self, spider):\n",
        "        self.file.close()\n",
        "\n",
        "    def process_item(self, item, spider):\n",
        "        if item[\"type\"] is ItemType.GAME:\n",
        "            game_item = {\n",
        "                'id': self.game_id,\n",
        "                'title': item[\"title\"],\n",
        "                'metascore': item[\"metascore\"],\n",
        "                'user_score': item[\"user_score\"],\n",
        "                'rating': item[\"rating\"],\n",
        "                'ganre': item[\"ganre\"],\n",
        "                'developer': item[\"developer\"],\n",
        "                'publisher': item[\"publisher\"],\n",
        "                'release_date': item[\"release_date\"],\n",
        "            }\n",
        "            self.game_id += 1\n",
        "            line = json.dumps(dict(game_item)) + \"\\n\"\n",
        "            self.file.write(line)\n",
        "        return item"
      ],
      "execution_count": 0,
      "outputs": []
    },
    {
      "cell_type": "code",
      "metadata": {
        "id": "pwuRa_3k5TAk",
        "colab_type": "code",
        "colab": {}
      },
      "source": [
        "# pipeline that handles publisher item and saves it to publishers.jl file\n",
        "class PublisherJsonWriterPipeline(object):\n",
        "  \n",
        "    publisher_id = 0\n",
        "    \n",
        "    def open_spider(self, spider):\n",
        "        self.file = open('publishers.jl', 'w')\n",
        "\n",
        "    def close_spider(self, spider):\n",
        "        self.file.close()\n",
        "\n",
        "    def process_item(self, item, spider):\n",
        "        #if item is not None:\n",
        "          if item['type'] is ItemType.PUBLISHER:\n",
        "            publisher_item = {\n",
        "                'id': self.publisher_id,\n",
        "                'title': item[\"title\"],\n",
        "                'average_score': item[\"average_score\"],\n",
        "                'highest_score': item[\"highest_score\"],\n",
        "                'highest_score_game': item[\"highest_score_game\"],\n",
        "                'lowest_score': item[\"lowest_score\"],\n",
        "                'lowest_score_game': item[\"lowest_score_game\"],\n",
        "            }\n",
        "            self.publisher_id += 1\n",
        "            line = json.dumps(dict(publisher_item)) + \"\\n\"\n",
        "            self.file.write(line)\n",
        "          return item"
      ],
      "execution_count": 0,
      "outputs": []
    },
    {
      "cell_type": "code",
      "metadata": {
        "id": "K8CeWEer-XxD",
        "colab_type": "code",
        "colab": {}
      },
      "source": [
        "# set of visited publisher pages, needed for preventing publisher duplications\n",
        "publisher_links = set()\n",
        "\n",
        "# implementation of scrapy spider\n",
        "class MetacriticSpider(scrapy.Spider):\n",
        "    name = \"metacritic\"\n",
        "    start_urls = [\n",
        "        #'https://www.metacritic.com/browse/games/score/metascore/all/pc/filtered?sort=desc' #takes way too long to process\n",
        "        'https://www.metacritic.com/browse/games/score/metascore/90day/pc/filtered?sort=desc', #shorter version, consists only of games that have been published during last 90 days\n",
        "    ]\n",
        "    custom_settings = {\n",
        "        'LOG_LEVEL': logging.WARNING,\n",
        "        'ITEM_PIPELINES': {\n",
        "            '__main__.GamesWriterPipeline': 1,\n",
        "            '__main__.PublisherJsonWriterPipeline': 2\n",
        "        },\n",
        "\n",
        "    }\n",
        "    \n",
        "    \n",
        "    # function that parses main link and all of next pages for links to games\n",
        "    def parse(self, response):\n",
        "        body = response.xpath('//div[@id=\"main\"]')\n",
        "        for quote in body.css('div.product_wrap'):\n",
        "            # handling a link to a game page\n",
        "            game_page = quote.css('a::attr(href)').get()\n",
        "            game_page = response.urljoin(game_page)\n",
        "            yield scrapy.Request(game_page, callback=self.parse_game)\n",
        "            \n",
        "        # checking if there are any additional pages in the list\n",
        "        next_page = response.css('span.flipper.next').css('a::attr(href)').get()\n",
        "        if next_page is not None:\n",
        "            # handling the next page\n",
        "            next_page = response.urljoin(next_page)\n",
        "            yield scrapy.Request(next_page, callback=self.parse)\n",
        "            \n",
        "            \n",
        "    # function that parses game page\n",
        "    def parse_game(self, response):\n",
        "        body = response.xpath('//div[@id=\"main\"]')\n",
        "        yield {\n",
        "                'type': ItemType.GAME,\n",
        "                'title': body.css('div.product_title h1::text').extract_first(),\n",
        "                'release_date': body.css('li.summary_detail.release_data span.data::text').extract_first(),\n",
        "                'metascore': body.css('div.metascore_w.xlarge.game span::text').extract_first(),\n",
        "                'user_score': body.css('div.metascore_w.user.large.game::text').extract_first(),\n",
        "                'rating': body.css('li.summary_detail.product_rating span.data::text').extract_first(),\n",
        "                'ganre': body.css('li.summary_detail.product_genre span.data::text').extract(),\n",
        "                'developer': body.css('li.summary_detail.developer span.data::text').extract_first(),\n",
        "                'publisher': body.css('li.summary_detail.publisher span.data a::text').extract_first(),\n",
        "            }\n",
        "        # finding out have the publisher been parsed already\n",
        "        publisher_page = body.css('li.summary_detail.publisher span.data a::attr(href)').get()\n",
        "        if not publisher_page in publisher_links:\n",
        "            # handling a link to a publisher page\n",
        "            publisher_links.add(publisher_page)\n",
        "            publisher_page = response.urljoin(publisher_page)\n",
        "            yield scrapy.Request(publisher_page, callback=self.parse_publisher)\n",
        "        \n",
        "    \n",
        "    #function that parses publisher page\n",
        "    def parse_publisher(self, response):\n",
        "        body = response.xpath('//div[@id=\"main\"]')\n",
        "        yield {\n",
        "                'type': ItemType.PUBLISHER,\n",
        "                'title': body.css('h1.person_title::text').extract_first(),\n",
        "                'average_score': body.css('tr.review_average span.data.textscore::text').extract_first(),\n",
        "                'highest_score': body.css('tr.highest_review span.metascore_w.small.game::text').extract_first(),\n",
        "                'highest_score_game': body.css('tr.highest_review span.product_title a::text').extract_first(),\n",
        "                'lowest_score': body.css('tr.lowest_review span.metascore_w.small.game::text').extract_first(),\n",
        "                'lowest_score_game': body.css('tr.lowest_review span.product_title a::text').extract_first(),\n",
        "            }\n",
        "\n",
        "        "
      ],
      "execution_count": 0,
      "outputs": []
    },
    {
      "cell_type": "code",
      "metadata": {
        "id": "XvRylmE9-b4j",
        "colab_type": "code",
        "outputId": "22d46a4c-b5bd-4487-eaf9-c869aa22b9ee",
        "colab": {
          "base_uri": "https://localhost:8080/",
          "height": 88
        }
      },
      "source": [
        "# carrying out crawler process\n",
        "# works only once, if you want to repeat it, you should restart the runtime\n",
        "process = CrawlerProcess({\n",
        "    'USER_AGENT': 'Mozilla/5.0 (Macintosh; Intel Mac OS X 10_11_5) AppleWebKit/537.36 (KHTML, like Gecko) Chrome/50.0.2661.102 Safari/537.36'\n",
        "})\n",
        "\n",
        "process.crawl(MetacriticSpider)\n",
        "process.start()"
      ],
      "execution_count": 7,
      "outputs": [
        {
          "output_type": "stream",
          "text": [
            "2019-05-09 17:30:27 [scrapy.utils.log] INFO: Scrapy 1.6.0 started (bot: scrapybot)\n",
            "2019-05-09 17:30:27 [scrapy.utils.log] INFO: Versions: lxml 4.2.6.0, libxml2 2.9.8, cssselect 1.0.3, parsel 1.5.1, w3lib 1.20.0, Twisted 19.2.0, Python 3.6.7 (default, Oct 22 2018, 11:32:17) - [GCC 8.2.0], pyOpenSSL 19.0.0 (OpenSSL 1.1.1b  26 Feb 2019), cryptography 2.6.1, Platform Linux-4.14.79+-x86_64-with-Ubuntu-18.04-bionic\n",
            "2019-05-09 17:30:27 [scrapy.crawler] INFO: Overridden settings: {'LOG_LEVEL': 30, 'USER_AGENT': 'Mozilla/5.0 (Macintosh; Intel Mac OS X 10_11_5) AppleWebKit/537.36 (KHTML, like Gecko) Chrome/50.0.2661.102 Safari/537.36'}\n"
          ],
          "name": "stderr"
        }
      ]
    },
    {
      "cell_type": "code",
      "metadata": {
        "id": "S3q1gFtB-jXD",
        "colab_type": "code",
        "colab": {}
      },
      "source": [
        "import pandas as pd\n",
        "\n",
        "# creating data frames from json files\n",
        "\n",
        "games_data_frame = pd.read_json('games.jl', lines = True)\n",
        "games_data_frame.set_index('id', inplace=True)\n",
        "\n",
        "publisher_data_frame = pd.read_json('publishers.jl', lines = True)\n",
        "publisher_data_frame.set_index('id', inplace=True)"
      ],
      "execution_count": 0,
      "outputs": []
    },
    {
      "cell_type": "code",
      "metadata": {
        "id": "bRC-u1_epxbM",
        "colab_type": "code",
        "colab": {
          "base_uri": "https://localhost:8080/",
          "height": 235
        },
        "outputId": "ec2fcd9b-35aa-43f2-b139-f44df89066e1"
      },
      "source": [
        "#visualizing first 5 games from games data frame\n",
        "games_data_frame.head()"
      ],
      "execution_count": 12,
      "outputs": [
        {
          "output_type": "execute_result",
          "data": {
            "text/html": [
              "<div>\n",
              "<style scoped>\n",
              "    .dataframe tbody tr th:only-of-type {\n",
              "        vertical-align: middle;\n",
              "    }\n",
              "\n",
              "    .dataframe tbody tr th {\n",
              "        vertical-align: top;\n",
              "    }\n",
              "\n",
              "    .dataframe thead th {\n",
              "        text-align: right;\n",
              "    }\n",
              "</style>\n",
              "<table border=\"1\" class=\"dataframe\">\n",
              "  <thead>\n",
              "    <tr style=\"text-align: right;\">\n",
              "      <th></th>\n",
              "      <th>developer</th>\n",
              "      <th>ganre</th>\n",
              "      <th>metascore</th>\n",
              "      <th>publisher</th>\n",
              "      <th>rating</th>\n",
              "      <th>release_date</th>\n",
              "      <th>title</th>\n",
              "      <th>user_score</th>\n",
              "    </tr>\n",
              "    <tr>\n",
              "      <th>id</th>\n",
              "      <th></th>\n",
              "      <th></th>\n",
              "      <th></th>\n",
              "      <th></th>\n",
              "      <th></th>\n",
              "      <th></th>\n",
              "      <th></th>\n",
              "      <th></th>\n",
              "    </tr>\n",
              "  </thead>\n",
              "  <tbody>\n",
              "    <tr>\n",
              "      <th>0</th>\n",
              "      <td>\\n                    3DClouds.it</td>\n",
              "      <td>[Racing, Arcade, Automobile]</td>\n",
              "      <td>64</td>\n",
              "      <td>\\n                                            ...</td>\n",
              "      <td>E</td>\n",
              "      <td>Mar 26, 2019</td>\n",
              "      <td>Xenon Racer</td>\n",
              "      <td>6.4</td>\n",
              "    </tr>\n",
              "    <tr>\n",
              "      <th>1</th>\n",
              "      <td>\\n                    From Software           ...</td>\n",
              "      <td>[Action Adventure, General]</td>\n",
              "      <td>89</td>\n",
              "      <td>\\n                                            ...</td>\n",
              "      <td>M</td>\n",
              "      <td>Mar 22, 2019</td>\n",
              "      <td>Sekiro: Shadows Die Twice</td>\n",
              "      <td>7.8</td>\n",
              "    </tr>\n",
              "    <tr>\n",
              "      <th>2</th>\n",
              "      <td>\\n                    Storm in a Teacup       ...</td>\n",
              "      <td>[Adventure, 3D, First-Person]</td>\n",
              "      <td>65</td>\n",
              "      <td>\\n                                            ...</td>\n",
              "      <td>M</td>\n",
              "      <td>May  2, 2019</td>\n",
              "      <td>Close to the Sun</td>\n",
              "      <td>6.2</td>\n",
              "    </tr>\n",
              "    <tr>\n",
              "      <th>3</th>\n",
              "      <td>\\n                    Codemasters</td>\n",
              "      <td>[Racing, Simulation, Automobile]</td>\n",
              "      <td>85</td>\n",
              "      <td>\\n                                            ...</td>\n",
              "      <td>E</td>\n",
              "      <td>Feb 26, 2019</td>\n",
              "      <td>DiRT Rally 2.0</td>\n",
              "      <td>5.1</td>\n",
              "    </tr>\n",
              "    <tr>\n",
              "      <th>4</th>\n",
              "      <td>\\n                    btf GmbH, btf           ...</td>\n",
              "      <td>[Adventure, General]</td>\n",
              "      <td>67</td>\n",
              "      <td>\\n                                            ...</td>\n",
              "      <td>None</td>\n",
              "      <td>Mar 12, 2019</td>\n",
              "      <td>Truberbrook: A Nerd Saves the World</td>\n",
              "      <td>4.8</td>\n",
              "    </tr>\n",
              "  </tbody>\n",
              "</table>\n",
              "</div>"
            ],
            "text/plain": [
              "                                            developer  \\\n",
              "id                                                      \n",
              "0   \\n                    3DClouds.it                   \n",
              "1   \\n                    From Software           ...   \n",
              "2   \\n                    Storm in a Teacup       ...   \n",
              "3   \\n                    Codemasters                   \n",
              "4   \\n                    btf GmbH, btf           ...   \n",
              "\n",
              "                               ganre  metascore  \\\n",
              "id                                                \n",
              "0       [Racing, Arcade, Automobile]         64   \n",
              "1        [Action Adventure, General]         89   \n",
              "2      [Adventure, 3D, First-Person]         65   \n",
              "3   [Racing, Simulation, Automobile]         85   \n",
              "4               [Adventure, General]         67   \n",
              "\n",
              "                                            publisher rating  release_date  \\\n",
              "id                                                                           \n",
              "0   \\n                                            ...      E  Mar 26, 2019   \n",
              "1   \\n                                            ...      M  Mar 22, 2019   \n",
              "2   \\n                                            ...      M  May  2, 2019   \n",
              "3   \\n                                            ...      E  Feb 26, 2019   \n",
              "4   \\n                                            ...   None  Mar 12, 2019   \n",
              "\n",
              "                                  title user_score  \n",
              "id                                                  \n",
              "0                           Xenon Racer        6.4  \n",
              "1             Sekiro: Shadows Die Twice        7.8  \n",
              "2                      Close to the Sun        6.2  \n",
              "3                        DiRT Rally 2.0        5.1  \n",
              "4   Truberbrook: A Nerd Saves the World        4.8  "
            ]
          },
          "metadata": {
            "tags": []
          },
          "execution_count": 12
        }
      ]
    },
    {
      "cell_type": "code",
      "metadata": {
        "id": "fJuJGlTSqGB9",
        "colab_type": "code",
        "colab": {
          "base_uri": "https://localhost:8080/",
          "height": 235
        },
        "outputId": "adee8922-2996-4f41-ba7d-e0e6b425c39d"
      },
      "source": [
        "#visualizing first 5 publishers from publishers data frame\n",
        "publisher_data_frame.head()"
      ],
      "execution_count": 13,
      "outputs": [
        {
          "output_type": "execute_result",
          "data": {
            "text/html": [
              "<div>\n",
              "<style scoped>\n",
              "    .dataframe tbody tr th:only-of-type {\n",
              "        vertical-align: middle;\n",
              "    }\n",
              "\n",
              "    .dataframe tbody tr th {\n",
              "        vertical-align: top;\n",
              "    }\n",
              "\n",
              "    .dataframe thead th {\n",
              "        text-align: right;\n",
              "    }\n",
              "</style>\n",
              "<table border=\"1\" class=\"dataframe\">\n",
              "  <thead>\n",
              "    <tr style=\"text-align: right;\">\n",
              "      <th></th>\n",
              "      <th>average_score</th>\n",
              "      <th>highest_score</th>\n",
              "      <th>highest_score_game</th>\n",
              "      <th>lowest_score</th>\n",
              "      <th>lowest_score_game</th>\n",
              "      <th>title</th>\n",
              "    </tr>\n",
              "    <tr>\n",
              "      <th>id</th>\n",
              "      <th></th>\n",
              "      <th></th>\n",
              "      <th></th>\n",
              "      <th></th>\n",
              "      <th></th>\n",
              "      <th></th>\n",
              "    </tr>\n",
              "  </thead>\n",
              "  <tbody>\n",
              "    <tr>\n",
              "      <th>0</th>\n",
              "      <td>86</td>\n",
              "      <td>87.0</td>\n",
              "      <td>Baba Is You</td>\n",
              "      <td>84.0</td>\n",
              "      <td>Baba Is You</td>\n",
              "      <td>Hempuli Oy</td>\n",
              "    </tr>\n",
              "    <tr>\n",
              "      <th>1</th>\n",
              "      <td>64</td>\n",
              "      <td>82.0</td>\n",
              "      <td>Victor Vran: Overkill Edition</td>\n",
              "      <td>41.0</td>\n",
              "      <td>Lets Fish! Hooked On</td>\n",
              "      <td>Wired Productions</td>\n",
              "    </tr>\n",
              "    <tr>\n",
              "      <th>2</th>\n",
              "      <td>68</td>\n",
              "      <td>98.0</td>\n",
              "      <td>Tony Hawk's Pro Skater 2</td>\n",
              "      <td>21.0</td>\n",
              "      <td>Fast &amp; Furious: Showdown</td>\n",
              "      <td>Activision</td>\n",
              "    </tr>\n",
              "    <tr>\n",
              "      <th>3</th>\n",
              "      <td>65</td>\n",
              "      <td>70.0</td>\n",
              "      <td>Tech Support: Error Unknown</td>\n",
              "      <td>59.0</td>\n",
              "      <td>Arelite Core</td>\n",
              "      <td>Dragon Slumber</td>\n",
              "    </tr>\n",
              "    <tr>\n",
              "      <th>4</th>\n",
              "      <td>67</td>\n",
              "      <td>86.0</td>\n",
              "      <td>Bridge Constructor Portal</td>\n",
              "      <td>41.0</td>\n",
              "      <td>Super Blackjack Battle II Turbo Edition: The C...</td>\n",
              "      <td>Headup Games</td>\n",
              "    </tr>\n",
              "  </tbody>\n",
              "</table>\n",
              "</div>"
            ],
            "text/plain": [
              "    average_score  highest_score             highest_score_game  lowest_score  \\\n",
              "id                                                                              \n",
              "0              86           87.0                    Baba Is You          84.0   \n",
              "1              64           82.0  Victor Vran: Overkill Edition          41.0   \n",
              "2              68           98.0       Tony Hawk's Pro Skater 2          21.0   \n",
              "3              65           70.0    Tech Support: Error Unknown          59.0   \n",
              "4              67           86.0      Bridge Constructor Portal          41.0   \n",
              "\n",
              "                                    lowest_score_game              title  \n",
              "id                                                                        \n",
              "0                                         Baba Is You         Hempuli Oy  \n",
              "1                                Lets Fish! Hooked On  Wired Productions  \n",
              "2                            Fast & Furious: Showdown         Activision  \n",
              "3                                        Arelite Core     Dragon Slumber  \n",
              "4   Super Blackjack Battle II Turbo Edition: The C...       Headup Games  "
            ]
          },
          "metadata": {
            "tags": []
          },
          "execution_count": 13
        }
      ]
    },
    {
      "cell_type": "markdown",
      "metadata": {
        "id": "BXwG9-0vXJ_8",
        "colab_type": "text"
      },
      "source": [
        "# Lab3"
      ]
    },
    {
      "cell_type": "code",
      "metadata": {
        "id": "g-KIFajs4kUb",
        "colab_type": "code",
        "outputId": "1169d2b8-a97c-416f-d7c7-8470d8c2402f",
        "colab": {
          "base_uri": "https://localhost:8080/",
          "height": 235
        }
      },
      "source": [
        "games_data_frame.release_date = pd.to_datetime(games_data_frame.release_date, format='%b %d, %Y')\n",
        "games_data_frame.developer = games_data_frame.developer.str.strip()\n",
        "games_data_frame.publisher = games_data_frame.publisher.str.strip()\n",
        "games_data_frame.metascore = games_data_frame.metascore.astype(float)\n",
        "games_data_frame.user_score = pd.to_numeric(games_data_frame.user_score, errors='coerce')  \n",
        "\n",
        "games_data_frame.head()"
      ],
      "execution_count": 27,
      "outputs": [
        {
          "output_type": "execute_result",
          "data": {
            "text/html": [
              "<div>\n",
              "<style scoped>\n",
              "    .dataframe tbody tr th:only-of-type {\n",
              "        vertical-align: middle;\n",
              "    }\n",
              "\n",
              "    .dataframe tbody tr th {\n",
              "        vertical-align: top;\n",
              "    }\n",
              "\n",
              "    .dataframe thead th {\n",
              "        text-align: right;\n",
              "    }\n",
              "</style>\n",
              "<table border=\"1\" class=\"dataframe\">\n",
              "  <thead>\n",
              "    <tr style=\"text-align: right;\">\n",
              "      <th></th>\n",
              "      <th>developer</th>\n",
              "      <th>ganre</th>\n",
              "      <th>metascore</th>\n",
              "      <th>publisher</th>\n",
              "      <th>rating</th>\n",
              "      <th>release_date</th>\n",
              "      <th>title</th>\n",
              "      <th>user_score</th>\n",
              "    </tr>\n",
              "    <tr>\n",
              "      <th>id</th>\n",
              "      <th></th>\n",
              "      <th></th>\n",
              "      <th></th>\n",
              "      <th></th>\n",
              "      <th></th>\n",
              "      <th></th>\n",
              "      <th></th>\n",
              "      <th></th>\n",
              "    </tr>\n",
              "  </thead>\n",
              "  <tbody>\n",
              "    <tr>\n",
              "      <th>0</th>\n",
              "      <td>3DClouds.it</td>\n",
              "      <td>[Racing, Arcade, Automobile]</td>\n",
              "      <td>64.0</td>\n",
              "      <td>Soedesco</td>\n",
              "      <td>E</td>\n",
              "      <td>2019-03-26</td>\n",
              "      <td>Xenon Racer</td>\n",
              "      <td>6.4</td>\n",
              "    </tr>\n",
              "    <tr>\n",
              "      <th>1</th>\n",
              "      <td>From Software</td>\n",
              "      <td>[Action Adventure, General]</td>\n",
              "      <td>89.0</td>\n",
              "      <td>Activision</td>\n",
              "      <td>M</td>\n",
              "      <td>2019-03-22</td>\n",
              "      <td>Sekiro: Shadows Die Twice</td>\n",
              "      <td>7.8</td>\n",
              "    </tr>\n",
              "    <tr>\n",
              "      <th>2</th>\n",
              "      <td>Storm in a Teacup</td>\n",
              "      <td>[Adventure, 3D, First-Person]</td>\n",
              "      <td>65.0</td>\n",
              "      <td>Wired Productions</td>\n",
              "      <td>M</td>\n",
              "      <td>2019-05-02</td>\n",
              "      <td>Close to the Sun</td>\n",
              "      <td>6.2</td>\n",
              "    </tr>\n",
              "    <tr>\n",
              "      <th>3</th>\n",
              "      <td>Codemasters</td>\n",
              "      <td>[Racing, Simulation, Automobile]</td>\n",
              "      <td>85.0</td>\n",
              "      <td>Codemasters</td>\n",
              "      <td>E</td>\n",
              "      <td>2019-02-26</td>\n",
              "      <td>DiRT Rally 2.0</td>\n",
              "      <td>5.1</td>\n",
              "    </tr>\n",
              "    <tr>\n",
              "      <th>4</th>\n",
              "      <td>btf GmbH, btf</td>\n",
              "      <td>[Adventure, General]</td>\n",
              "      <td>67.0</td>\n",
              "      <td>Headup Games</td>\n",
              "      <td>None</td>\n",
              "      <td>2019-03-12</td>\n",
              "      <td>Truberbrook: A Nerd Saves the World</td>\n",
              "      <td>4.8</td>\n",
              "    </tr>\n",
              "  </tbody>\n",
              "</table>\n",
              "</div>"
            ],
            "text/plain": [
              "            developer                             ganre  metascore  \\\n",
              "id                                                                   \n",
              "0         3DClouds.it      [Racing, Arcade, Automobile]       64.0   \n",
              "1       From Software       [Action Adventure, General]       89.0   \n",
              "2   Storm in a Teacup     [Adventure, 3D, First-Person]       65.0   \n",
              "3         Codemasters  [Racing, Simulation, Automobile]       85.0   \n",
              "4       btf GmbH, btf              [Adventure, General]       67.0   \n",
              "\n",
              "            publisher rating release_date  \\\n",
              "id                                          \n",
              "0            Soedesco      E   2019-03-26   \n",
              "1          Activision      M   2019-03-22   \n",
              "2   Wired Productions      M   2019-05-02   \n",
              "3         Codemasters      E   2019-02-26   \n",
              "4        Headup Games   None   2019-03-12   \n",
              "\n",
              "                                  title  user_score  \n",
              "id                                                   \n",
              "0                           Xenon Racer         6.4  \n",
              "1             Sekiro: Shadows Die Twice         7.8  \n",
              "2                      Close to the Sun         6.2  \n",
              "3                        DiRT Rally 2.0         5.1  \n",
              "4   Truberbrook: A Nerd Saves the World         4.8  "
            ]
          },
          "metadata": {
            "tags": []
          },
          "execution_count": 27
        }
      ]
    },
    {
      "cell_type": "code",
      "metadata": {
        "id": "pQYMS-gUT0-P",
        "colab_type": "code",
        "colab": {
          "base_uri": "https://localhost:8080/",
          "height": 235
        },
        "outputId": "6b919b9b-93db-406e-9742-45af668e381d"
      },
      "source": [
        "publisher_data_frame.highest_score_game = publisher_data_frame.highest_score_game.str.strip()\n",
        "publisher_data_frame.lowest_score_game  = publisher_data_frame.lowest_score_game.str.strip()\n",
        "publisher_data_frame.title              = publisher_data_frame.title.str.strip()\n",
        "publisher_data_frame.average_score      = publisher_data_frame.average_score.astype(float)\n",
        "publisher_data_frame.highest_score      = publisher_data_frame.highest_score.astype(float)\n",
        "publisher_data_frame.lowest_score       = publisher_data_frame.lowest_score.astype(float)\n",
        "\n",
        "publisher_data_frame.head()"
      ],
      "execution_count": 26,
      "outputs": [
        {
          "output_type": "execute_result",
          "data": {
            "text/html": [
              "<div>\n",
              "<style scoped>\n",
              "    .dataframe tbody tr th:only-of-type {\n",
              "        vertical-align: middle;\n",
              "    }\n",
              "\n",
              "    .dataframe tbody tr th {\n",
              "        vertical-align: top;\n",
              "    }\n",
              "\n",
              "    .dataframe thead th {\n",
              "        text-align: right;\n",
              "    }\n",
              "</style>\n",
              "<table border=\"1\" class=\"dataframe\">\n",
              "  <thead>\n",
              "    <tr style=\"text-align: right;\">\n",
              "      <th></th>\n",
              "      <th>average_score</th>\n",
              "      <th>highest_score</th>\n",
              "      <th>highest_score_game</th>\n",
              "      <th>lowest_score</th>\n",
              "      <th>lowest_score_game</th>\n",
              "      <th>title</th>\n",
              "    </tr>\n",
              "    <tr>\n",
              "      <th>id</th>\n",
              "      <th></th>\n",
              "      <th></th>\n",
              "      <th></th>\n",
              "      <th></th>\n",
              "      <th></th>\n",
              "      <th></th>\n",
              "    </tr>\n",
              "  </thead>\n",
              "  <tbody>\n",
              "    <tr>\n",
              "      <th>0</th>\n",
              "      <td>86.0</td>\n",
              "      <td>87.0</td>\n",
              "      <td>Baba Is You</td>\n",
              "      <td>84.0</td>\n",
              "      <td>Baba Is You</td>\n",
              "      <td>Hempuli Oy</td>\n",
              "    </tr>\n",
              "    <tr>\n",
              "      <th>1</th>\n",
              "      <td>64.0</td>\n",
              "      <td>82.0</td>\n",
              "      <td>Victor Vran: Overkill Edition</td>\n",
              "      <td>41.0</td>\n",
              "      <td>Lets Fish! Hooked On</td>\n",
              "      <td>Wired Productions</td>\n",
              "    </tr>\n",
              "    <tr>\n",
              "      <th>2</th>\n",
              "      <td>68.0</td>\n",
              "      <td>98.0</td>\n",
              "      <td>Tony Hawk's Pro Skater 2</td>\n",
              "      <td>21.0</td>\n",
              "      <td>Fast &amp; Furious: Showdown</td>\n",
              "      <td>Activision</td>\n",
              "    </tr>\n",
              "    <tr>\n",
              "      <th>3</th>\n",
              "      <td>65.0</td>\n",
              "      <td>70.0</td>\n",
              "      <td>Tech Support: Error Unknown</td>\n",
              "      <td>59.0</td>\n",
              "      <td>Arelite Core</td>\n",
              "      <td>Dragon Slumber</td>\n",
              "    </tr>\n",
              "    <tr>\n",
              "      <th>4</th>\n",
              "      <td>67.0</td>\n",
              "      <td>86.0</td>\n",
              "      <td>Bridge Constructor Portal</td>\n",
              "      <td>41.0</td>\n",
              "      <td>Super Blackjack Battle II Turbo Edition: The C...</td>\n",
              "      <td>Headup Games</td>\n",
              "    </tr>\n",
              "  </tbody>\n",
              "</table>\n",
              "</div>"
            ],
            "text/plain": [
              "    average_score  highest_score             highest_score_game  lowest_score  \\\n",
              "id                                                                              \n",
              "0            86.0           87.0                    Baba Is You          84.0   \n",
              "1            64.0           82.0  Victor Vran: Overkill Edition          41.0   \n",
              "2            68.0           98.0       Tony Hawk's Pro Skater 2          21.0   \n",
              "3            65.0           70.0    Tech Support: Error Unknown          59.0   \n",
              "4            67.0           86.0      Bridge Constructor Portal          41.0   \n",
              "\n",
              "                                    lowest_score_game              title  \n",
              "id                                                                        \n",
              "0                                         Baba Is You         Hempuli Oy  \n",
              "1                                Lets Fish! Hooked On  Wired Productions  \n",
              "2                            Fast & Furious: Showdown         Activision  \n",
              "3                                        Arelite Core     Dragon Slumber  \n",
              "4   Super Blackjack Battle II Turbo Edition: The C...       Headup Games  "
            ]
          },
          "metadata": {
            "tags": []
          },
          "execution_count": 26
        }
      ]
    }
  ]
}